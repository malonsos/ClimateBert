{
  "nbformat": 4,
  "nbformat_minor": 0,
  "metadata": {
    "colab": {
      "provenance": [],
      "authorship_tag": "ABX9TyNyEKMUyfvQEwEWol8ORjFb",
      "include_colab_link": true
    },
    "kernelspec": {
      "name": "python3",
      "display_name": "Python 3"
    },
    "language_info": {
      "name": "python"
    }
  },
  "cells": [
    {
      "cell_type": "markdown",
      "metadata": {
        "id": "view-in-github",
        "colab_type": "text"
      },
      "source": [
        "<a href=\"https://colab.research.google.com/github/malonsos/ClimateBert/blob/main/ClimateBert_CEOspolide.ipynb\" target=\"_parent\"><img src=\"https://colab.research.google.com/assets/colab-badge.svg\" alt=\"Open In Colab\"/></a>"
      ]
    },
    {
      "cell_type": "code",
      "execution_count": null,
      "metadata": {
        "id": "0ifNCJFnrvEC"
      },
      "outputs": [],
      "source": [
        " %pip install transformers"
      ]
    },
    {
      "cell_type": "code",
      "source": [
        "import os\n",
        "os.getcwd()"
      ],
      "metadata": {
        "id": "brWp4qFmrxJi"
      },
      "execution_count": null,
      "outputs": []
    },
    {
      "cell_type": "code",
      "source": [
        "%mkdir Climate_bert"
      ],
      "metadata": {
        "id": "DQpbah3LrygJ"
      },
      "execution_count": null,
      "outputs": []
    },
    {
      "cell_type": "code",
      "source": [
        "from google.colab import files\n",
        "\n",
        "uploaded = files.upload()"
      ],
      "metadata": {
        "id": "14NwJGOWrz9R"
      },
      "execution_count": null,
      "outputs": []
    },
    {
      "cell_type": "code",
      "source": [
        "import re\n",
        "import pandas as pd\n",
        "from transformers import AutoModelForSequenceClassification, AutoTokenizer, pipeline\n",
        "\n",
        "# List to store results\n",
        "results = []\n",
        "\n",
        "# Iterate through uploaded files\n",
        "for filename, content in uploaded.items():\n",
        "    # Decode content to UTF-8\n",
        "    text = content.decode('utf-8')\n",
        "    # Split text into paragraphs at each period\n",
        "    paragraphs = re.split(r'(?<!\\w\\.\\w.)(?<![A-Z][a-z]\\.)(?<=\\.|\\?)\\s', text)\n",
        "\n",
        "    # Load pre-trained model and tokenizer\n",
        "    model_name = \"climatebert/distilroberta-base-climate-detector\"\n",
        "    model = AutoModelForSequenceClassification.from_pretrained(model_name)\n",
        "    tokenizer = AutoTokenizer.from_pretrained(model_name, max_len=512)\n",
        "\n",
        "    # Create text classification pipeline\n",
        "    pipe = pipeline(\"text-classification\", model=model, tokenizer=tokenizer, device=-1)\n",
        "\n",
        "    # Apply the pipeline to each paragraph\n",
        "    for i, paragraph in enumerate(paragraphs):\n",
        "        # Tokenize the paragraph and handle long sequences\n",
        "        tokens = tokenizer(paragraph, max_length=512, truncation=True, return_overflowing_tokens=True)\n",
        "\n",
        "        # Iterate over tokenized sequences\n",
        "        for j in range(len(tokens[\"input_ids\"])):\n",
        "            input_ids = tokens[\"input_ids\"][j]\n",
        "            attention_mask = tokens[\"attention_mask\"][j]\n",
        "\n",
        "            # Convert to string\n",
        "            truncated_text = tokenizer.decode(input_ids, skip_special_tokens=True)\n",
        "\n",
        "            # Apply the pipeline to the truncated text\n",
        "            output = pipe(truncated_text)[0]\n",
        "\n",
        "            # Append results to the list\n",
        "            results.append({\n",
        "                'File Name': filename,\n",
        "                'Part Number': f\"{i + 1}.{j + 1}\",\n",
        "                'Text': truncated_text,\n",
        "                'Label': output['label'],\n",
        "                'Score': output['score']\n",
        "            })\n",
        "\n",
        "# Create a DataFrame from the results\n",
        "df = pd.DataFrame(results)\n",
        "\n",
        "# Save the DataFrame to a CSV file\n",
        "csv_file_path = '/content/Climate_bert/classification_results.csv'\n",
        "df.to_csv(csv_file_path, index=False)\n",
        "\n",
        "print(f\"Results saved to: {csv_file_path}\")"
      ],
      "metadata": {
        "id": "1U6AULKzr2MI"
      },
      "execution_count": null,
      "outputs": []
    },
    {
      "cell_type": "code",
      "source": [
        "!pip install datasets"
      ],
      "metadata": {
        "id": "WdpFhkflr4XJ"
      },
      "execution_count": null,
      "outputs": []
    },
    {
      "cell_type": "code",
      "source": [
        "#specificity\n",
        "import pandas as pd\n",
        "from transformers import AutoModelForSequenceClassification, AutoTokenizer, pipeline\n",
        "from transformers.pipelines.pt_utils import KeyDataset\n",
        "import datasets\n",
        "from tqdm.auto import tqdm\n",
        "from google.colab import files\n",
        "\n",
        "# Upload your Excel file to the Colab environment\n",
        "uploaded = files.upload()\n",
        "\n",
        "# Load the Excel file into a Pandas DataFrame\n",
        "df = pd.read_excel(\"classification_results_ejemplo.xlsx\")\n",
        "\n",
        "# Filter rows where label is \"yes\"\n",
        "df_yes = df[df['Label'] == 'yes']\n",
        "\n",
        "# Extract the text from the filtered DataFrame\n",
        "texts = df_yes['Text'].tolist()\n",
        "\n",
        "# Initialize model and tokenizer\n",
        "model_name = \"climatebert/distilroberta-base-climate-specificity\"\n",
        "model = AutoModelForSequenceClassification.from_pretrained(model_name)\n",
        "tokenizer = AutoTokenizer.from_pretrained(model_name, max_len=512)\n",
        "\n",
        "# Initialize pipeline\n",
        "pipe = pipeline(\"text-classification\", model=model, tokenizer=tokenizer, device=-1)\n",
        "\n",
        "# Process the texts through the pipeline\n",
        "for out in tqdm(pipe(texts, padding=True, truncation=True)):\n",
        "    print(out)"
      ],
      "metadata": {
        "id": "WK3F0VABr5pe"
      },
      "execution_count": null,
      "outputs": []
    },
    {
      "cell_type": "code",
      "source": [
        "import pandas as pd\n",
        "from transformers import AutoModelForSequenceClassification, AutoTokenizer, pipeline\n",
        "from transformers.pipelines.pt_utils import KeyDataset\n",
        "from tqdm.auto import tqdm\n",
        "from google.colab import files\n",
        "\n",
        "# Upload your Excel file to the Colab environment\n",
        "uploaded = files.upload()\n",
        "\n",
        "# Load the Excel file into a Pandas DataFrame\n",
        "df = pd.read_excel(\"classification_results_ejemplo.xlsx\")\n",
        "\n",
        "# Filter rows where label is \"yes\"\n",
        "df_yes = df[df['Label'] == 'yes']\n",
        "\n",
        "# Extract the text from the filtered DataFrame\n",
        "texts = df_yes['Text'].tolist()\n",
        "\n",
        "# Initialize model and tokenizer\n",
        "model_name = \"climatebert/distilroberta-base-climate-specificity\"\n",
        "model = AutoModelForSequenceClassification.from_pretrained(model_name)\n",
        "tokenizer = AutoTokenizer.from_pretrained(model_name, max_len=512)\n",
        "\n",
        "# Initialize pipeline\n",
        "pipe = pipeline(\"text-classification\", model=model, tokenizer=tokenizer, device=-1)\n",
        "\n",
        "# Process the texts through the pipeline\n",
        "results = []\n",
        "for i, out in tqdm(enumerate(pipe(texts, padding=True, truncation=True))):\n",
        "    results.append({\n",
        "        'File Name': df_yes.iloc[i]['File Name'],\n",
        "        'Part Number': df_yes.iloc[i]['Part Number'],\n",
        "        'Text': df_yes.iloc[i]['Text'],\n",
        "        'Label': out['label'],\n",
        "        'Score': out['score']\n",
        "    })\n",
        "\n",
        "# Convert results to DataFrame\n",
        "results_df = pd.DataFrame(results)\n",
        "\n",
        "# Save results to CSV file\n",
        "results_df.to_csv(\"classification_results1.csv\", index=False)\n",
        "\n",
        "# Download the CSV file\n",
        "files.download(\"classification_results1.csv\")"
      ],
      "metadata": {
        "id": "uNT0u8gJr8lM"
      },
      "execution_count": null,
      "outputs": []
    }
  ]
}