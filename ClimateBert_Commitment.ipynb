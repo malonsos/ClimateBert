{
  "nbformat": 4,
  "nbformat_minor": 0,
  "metadata": {
    "colab": {
      "provenance": [],
      "authorship_tag": "ABX9TyN44ITz43mzN90Eu6lTk0m3",
      "include_colab_link": true
    },
    "kernelspec": {
      "name": "python3",
      "display_name": "Python 3"
    },
    "language_info": {
      "name": "python"
    }
  },
  "cells": [
    {
      "cell_type": "markdown",
      "metadata": {
        "id": "view-in-github",
        "colab_type": "text"
      },
      "source": [
        "<a href=\"https://colab.research.google.com/github/malonsos/ClimateBert/blob/main/ClimateBert_Commitment.ipynb\" target=\"_parent\"><img src=\"https://colab.research.google.com/assets/colab-badge.svg\" alt=\"Open In Colab\"/></a>"
      ]
    },
    {
      "cell_type": "code",
      "execution_count": null,
      "metadata": {
        "id": "FJv0jNxgvy4D"
      },
      "outputs": [],
      "source": [
        "#Commitments\n",
        "import pandas as pd\n",
        "from transformers import AutoModelForSequenceClassification, AutoTokenizer, pipeline\n",
        "from transformers.pipelines.pt_utils import KeyDataset\n",
        "import datasets\n",
        "from tqdm.auto import tqdm\n",
        "from google.colab import files\n",
        "\n",
        "# Upload your Excel file to the Colab environment\n",
        "uploaded = files.upload()\n",
        "\n",
        "# Load the Excel file into a Pandas DataFrame\n",
        "df = pd.read_excel(\"classification_results_2010-item1.xlsx\")\n",
        "\n",
        "# Filter rows where label is \"yes\"\n",
        "df_yes = df[df['Label'] == 'yes']\n",
        "\n",
        "# Extract the text from the filtered DataFrame\n",
        "texts = df_yes['Text'].tolist()\n",
        "\n",
        "# Initialize model and tokenizer\n",
        "model_name = \"climatebert/distilroberta-base-climate-commitment\"\n",
        "model = AutoModelForSequenceClassification.from_pretrained(model_name)\n",
        "tokenizer = AutoTokenizer.from_pretrained(model_name, max_len=512)\n",
        "\n",
        "# Initialize pipeline\n",
        "pipe = pipeline(\"text-classification\", model=model, tokenizer=tokenizer, device=-1)\n",
        "\n",
        "# Process the texts through the pipeline\n",
        "\n",
        "\n",
        "# Process the texts through the pipeline\n",
        "results = []\n",
        "for i, text in tqdm(enumerate(texts)):\n",
        "    # Ensure text is a string\n",
        "    if isinstance(text, str):\n",
        "        out = pipe(text, padding=True, truncation=True)\n",
        "        results.append({\n",
        "            'File Name': df_yes.iloc[i]['File Name'],\n",
        "            'Part Number': df_yes.iloc[i]['Part Number'],\n",
        "            'Text': df_yes.iloc[i]['Text'],\n",
        "            'Label': out[0]['label'],\n",
        "            'Score': out[0]['score']\n",
        "        })\n",
        "    else:\n",
        "        print(f\"Ignoring non-string text at index {i}: {text}\")\n",
        "\n",
        "\n",
        "\n",
        "\n",
        "\n",
        "# Convert results to DataFrame\n",
        "results_df = pd.DataFrame(results)\n",
        "\n",
        "# Add column counting words\n",
        "results_df['WordClimate'] = results_df['Text'].apply(lambda x: len(str(x).split()))\n",
        "\n",
        "# Save results to CSV file\n",
        "results_df.to_csv(\"classification_commitment_2010-item1.csv\", index=False)\n",
        "\n",
        "# Download the CSV file\n",
        "files.download(\"classification_commitment_2010-item1.csv\")"
      ]
    }
  ]
}